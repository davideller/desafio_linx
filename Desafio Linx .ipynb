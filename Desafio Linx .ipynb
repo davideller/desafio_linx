{
 "cells": [
  {
   "cell_type": "code",
   "execution_count": 1029,
   "metadata": {},
   "outputs": [],
   "source": [
    "#Imports\n",
    "import time\n",
    "start_time = time.time()\n",
    "\n",
    "import pandas as pd\n",
    "import statistics\n",
    "import numpy as np\n",
    "import matplotlib.pyplot as plt\n",
    "import seaborn as sns\n",
    "import datetime\n",
    "import plotly.graph_objects as go\n",
    "from statsmodels.graphics.tsaplots import plot_acf\n",
    "from statsmodels.tsa.seasonal import seasonal_decompose\n",
    "\n",
    "from mlxtend.frequent_patterns import apriori\n",
    "from mlxtend.frequent_patterns import association_rules\n",
    "import mlxtend as ml\n",
    "\n"
   ]
  },
  {
   "cell_type": "code",
   "execution_count": 1030,
   "metadata": {},
   "outputs": [],
   "source": [
    "#Load data\n",
    "\n",
    "offline_sales = pd.read_json(\"offline_sales.json\", lines = True)\n",
    "online_orders = pd.read_json(\"online_orders.json\", lines = True)\n",
    "online_views = pd.read_json(\"online_pageviews.json\", lines = True)"
   ]
  },
  {
   "cell_type": "markdown",
   "metadata": {},
   "source": [
    "## Optmizing the size of the dataframes"
   ]
  },
  {
   "cell_type": "code",
   "execution_count": 1031,
   "metadata": {},
   "outputs": [
    {
     "name": "stdout",
     "output_type": "stream",
     "text": [
      "<class 'pandas.core.frame.DataFrame'>\n",
      "RangeIndex: 29372 entries, 0 to 29371\n",
      "Data columns (total 8 columns):\n",
      "customer_id       25844 non-null float64\n",
      "date              29372 non-null datetime64[ns]\n",
      "off_product_id    29372 non-null int64\n",
      "price             29372 non-null float64\n",
      "quantity          29372 non-null int64\n",
      "sale_id           29372 non-null int64\n",
      "state             29372 non-null object\n",
      "store_id          29372 non-null int64\n",
      "dtypes: datetime64[ns](1), float64(2), int64(4), object(1)\n",
      "memory usage: 1.8+ MB\n"
     ]
    }
   ],
   "source": [
    "offline_sales.info()"
   ]
  },
  {
   "cell_type": "code",
   "execution_count": 1032,
   "metadata": {},
   "outputs": [
    {
     "name": "stdout",
     "output_type": "stream",
     "text": [
      "<class 'pandas.core.frame.DataFrame'>\n",
      "RangeIndex: 12237 entries, 0 to 12236\n",
      "Data columns (total 8 columns):\n",
      "customer_id      7757 non-null float64\n",
      "date             12237 non-null datetime64[ns]\n",
      "deviceType       12237 non-null object\n",
      "on_product_id    12237 non-null int64\n",
      "order_id         12237 non-null int64\n",
      "price            12237 non-null int64\n",
      "quantity         12237 non-null int64\n",
      "visitor_id       12237 non-null float64\n",
      "dtypes: datetime64[ns](1), float64(2), int64(4), object(1)\n",
      "memory usage: 764.9+ KB\n"
     ]
    }
   ],
   "source": [
    "online_orders.info()"
   ]
  },
  {
   "cell_type": "code",
   "execution_count": 1033,
   "metadata": {},
   "outputs": [
    {
     "name": "stdout",
     "output_type": "stream",
     "text": [
      "<class 'pandas.core.frame.DataFrame'>\n",
      "RangeIndex: 29372 entries, 0 to 29371\n",
      "Data columns (total 8 columns):\n",
      "customer_id       25844 non-null float64\n",
      "date              29372 non-null datetime64[ns]\n",
      "off_product_id    29372 non-null int64\n",
      "price             29372 non-null float64\n",
      "quantity          29372 non-null int64\n",
      "sale_id           29372 non-null int64\n",
      "state             29372 non-null object\n",
      "store_id          29372 non-null int64\n",
      "dtypes: datetime64[ns](1), float64(2), int64(4), object(1)\n",
      "memory usage: 1.8+ MB\n"
     ]
    }
   ],
   "source": [
    "offline_sales.info()"
   ]
  },
  {
   "cell_type": "code",
   "execution_count": 1034,
   "metadata": {},
   "outputs": [
    {
     "name": "stdout",
     "output_type": "stream",
     "text": [
      "The dataframe has been optmized in 0.2082834877820952 %\n"
     ]
    }
   ],
   "source": [
    "#Calculates memory usage before changing datatype\n",
    "memory_usage0 = offline_sales.memory_usage().sum() + online_orders.memory_usage().sum() + online_views.memory_usage().sum() \n",
    "\n",
    "#Change datatype\n",
    "offline_sales[\"state\"] = offline_sales[\"state\"].astype('category')\n",
    "offline_sales[\"price\"] = pd.to_numeric(offline_sales[\"price\"], downcast = 'float')\n",
    "online_orders[\"deviceType\"] = online_orders[\"deviceType\"].astype('category')\n",
    "\n",
    "#Calculates memory usage optimization\n",
    "memory_usage1 = offline_sales.memory_usage().sum() + online_orders.memory_usage().sum() + online_views.memory_usage().sum() \n",
    "memory_save = (memory_usage0 - memory_usage1)/memory_usage0*100\n",
    "print(\"The dataframe has been optmized in\",memory_save,\"%\")"
   ]
  },
  {
   "cell_type": "markdown",
   "metadata": {},
   "source": [
    "## Questão 1 "
   ]
  },
  {
   "cell_type": "code",
   "execution_count": 1035,
   "metadata": {},
   "outputs": [],
   "source": [
    "#Calculates total price of a purchase\n",
    "offline_sales[\"totalPrice\"] = offline_sales[\"price\"]*offline_sales[\"quantity\"].astype(int)\n",
    "online_orders[\"totalPrice\"] = online_orders[\"price\"]*online_orders[\"quantity\"].astype(int)"
   ]
  },
  {
   "cell_type": "code",
   "execution_count": 1036,
   "metadata": {},
   "outputs": [
    {
     "name": "stdout",
     "output_type": "stream",
     "text": [
      "The revenue of the period is R$ 19552328.0\n"
     ]
    }
   ],
   "source": [
    "#Calculates total revenue\n",
    "revenue = offline_sales[\"totalPrice\"].sum() + online_orders[\"totalPrice\"].sum()\n",
    "print(\"The revenue of the period is R$\",revenue)"
   ]
  },
  {
   "cell_type": "markdown",
   "metadata": {},
   "source": [
    "## Questão 2"
   ]
  },
  {
   "cell_type": "code",
   "execution_count": 1037,
   "metadata": {},
   "outputs": [
    {
     "name": "stdout",
     "output_type": "stream",
     "text": [
      "The most sold product online is 626664333563363\n"
     ]
    }
   ],
   "source": [
    "#Analyzes most sold product online\n",
    "print(\"The most sold product online is\",online_orders.groupby(online_orders['on_product_id'])['quantity'].sum().idxmax())"
   ]
  },
  {
   "cell_type": "markdown",
   "metadata": {},
   "source": [
    "## Questão 3.1"
   ]
  },
  {
   "cell_type": "code",
   "execution_count": 1038,
   "metadata": {},
   "outputs": [
    {
     "name": "stderr",
     "output_type": "stream",
     "text": [
      "/dev/data/home/eller/anaconda3/lib/python3.7/site-packages/ipykernel_launcher.py:10: FutureWarning:\n",
      "\n",
      "Sorting because non-concatenation axis is not aligned. A future version\n",
      "of pandas will change to not sort by default.\n",
      "\n",
      "To accept the future behavior, pass 'sort=False'.\n",
      "\n",
      "To retain the current behavior and silence the warning, pass 'sort=True'.\n",
      "\n",
      "\n"
     ]
    }
   ],
   "source": [
    "#Merge the dataframes and drop NaN\n",
    "online_orders_state = online_orders.merge(offline_sales[['customer_id','state']], on = \"customer_id\")\n",
    "online_orders_state.dropna(subset = ['customer_id'], inplace = True)\n",
    "\n",
    "#Drop columns\n",
    "online_orders_state.drop(['deviceType','on_product_id','order_id','visitor_id'], axis = 1, inplace = True)\n",
    "offline_sales_state = offline_sales.drop(['off_product_id','sale_id'], axis = 1)\n",
    "\n",
    "#Concatenate dataframes\n",
    "sales = pd.concat([online_orders_state, offline_sales_state])"
   ]
  },
  {
   "cell_type": "code",
   "execution_count": 1039,
   "metadata": {},
   "outputs": [],
   "source": [
    "#Add days of the week to the df\n",
    "sales['dayOfTheWeek'] = sales['date'].dt.dayofweek"
   ]
  },
  {
   "cell_type": "code",
   "execution_count": 1040,
   "metadata": {},
   "outputs": [],
   "source": [
    "#Analyzes revenue on RJ per day of the week\n",
    "sales_rj_per_day = sales[sales['state'] == 'RJ'].groupby(sales['dayOfTheWeek'])['totalPrice'].sum()\n",
    "sales_rj_weekdays = statistics.mean(sales_rj_per_day[0:5])\n",
    "sales_rj_weekends = statistics.mean(sales_rj_per_day[5:7])\n"
   ]
  },
  {
   "cell_type": "code",
   "execution_count": 1041,
   "metadata": {},
   "outputs": [
    {
     "data": {
      "text/plain": [
       "Text(0, 0.5, 'Revenue')"
      ]
     },
     "execution_count": 1041,
     "metadata": {},
     "output_type": "execute_result"
    },
    {
     "data": {
      "image/png": "[encoded data removed]",
      "text/plain": [
       "<Figure size 504x360 with 1 Axes>"
      ]
     },
     "metadata": {
      "needs_background": "light"
     },
     "output_type": "display_data"
    }
   ],
   "source": [
    "#Plot graphic days of the week\n",
    "days = ['monday', 'tuesday', 'wednesday', 'thursday', 'friday', 'saturday', 'sunday']\n",
    "plt.rcParams['figure.figsize'] = (7,5)\n",
    "plt.bar(days, sales_rj_per_day)\n",
    "plt.title('Revenue per day of the week (RJ)')\n",
    "plt.ylabel('Revenue')\n",
    "\n",
    "\n"
   ]
  },
  {
   "cell_type": "code",
   "execution_count": 1042,
   "metadata": {},
   "outputs": [
    {
     "data": {
      "text/plain": [
       "Text(0, 0.5, 'Revenue')"
      ]
     },
     "execution_count": 1042,
     "metadata": {},
     "output_type": "execute_result"
    },
    {
     "data": {
      "image/png": "[encoded data removed]",
      "text/plain": [
       "<Figure size 504x360 with 1 Axes>"
      ]
     },
     "metadata": {
      "needs_background": "light"
     },
     "output_type": "display_data"
    }
   ],
   "source": [
    "#Plot graphic weekend x weekdays\n",
    "plt.bar(['average days of the week', 'average days of theweekends'], [sales_rj_weekdays, sales_rj_weekends])\n",
    "plt.title('Revenue per day of the week (RJ)')\n",
    "plt.ylabel('Revenue')\n"
   ]
  },
  {
   "cell_type": "markdown",
   "metadata": {},
   "source": [
    "## Questão 3.2"
   ]
  },
  {
   "cell_type": "code",
   "execution_count": 1043,
   "metadata": {},
   "outputs": [],
   "source": [
    "#Calculate the percentage of the money spent on the weekends in relation to all the money spent (all days) for each state\n",
    "sales_state_per_day = sales.groupby(['dayOfTheWeek', 'state'], as_index = False)['totalPrice'].sum()\n",
    "state_list = list(sales_state_per_day['state'].value_counts().index)\n",
    "\n",
    "#List lists\n",
    "state_average = []\n",
    "state_percentage = []\n",
    "average_spent_on_weekends = []\n",
    "\n",
    "#Iterates for each state\n",
    "for state in state_list:\n",
    "    average = (sales_state_per_day[sales_state_per_day['state'] == state]['totalPrice'][5:7]).sum()/2\n",
    "    average_spent_on_weekends.append(average)\n",
    "    percentage = average/sales_state_per_day[sales_state_per_day['state'] == state]['totalPrice'].sum()\n",
    "    state_percentage.append(percentage)\n",
    "\n",
    "#Creates dataframe with data\n",
    "percentage_on_weekends_per_state = pd.DataFrame(list(zip(state_list, state_percentage)))\n",
    "df_average_spent_on_weekends = pd.DataFrame(list(zip(state_list, average_spent_on_weekends))).rename(columns = {0:'state', 1:'average_weekends'})\n"
   ]
  },
  {
   "cell_type": "code",
   "execution_count": 1044,
   "metadata": {},
   "outputs": [
    {
     "data": {
      "text/plain": [
       "Text(0.5, 0, 'State')"
      ]
     },
     "execution_count": 1044,
     "metadata": {},
     "output_type": "execute_result"
    },
    {
     "data": {
      "image/png": "[encoded data removed]",
      "text/plain": [
       "<Figure size 504x360 with 1 Axes>"
      ]
     },
     "metadata": {
      "needs_background": "light"
     },
     "output_type": "display_data"
    }
   ],
   "source": [
    "#Plot graph\n",
    "plt.bar(state_list,percentage_on_weekends_per_state[1])\n",
    "plt.title('Percentage spent on weekend day per state')\n",
    "plt.ylabel('Percentage')\n",
    "plt.xlabel('State')"
   ]
  },
  {
   "cell_type": "markdown",
   "metadata": {},
   "source": [
    "## Questão 3.3 "
   ]
  },
  {
   "cell_type": "code",
   "execution_count": 1045,
   "metadata": {},
   "outputs": [],
   "source": [
    "#Import external data\n",
    "dados_estados_brasileiros = pd.read_excel(\"dados_estados_brasileiros (1).xlsx\")\n",
    "\n",
    "dados_estados_brasileiros = df_average_spent_on_weekends.merge(dados_estados_brasileiros, on='state')\n"
   ]
  },
  {
   "cell_type": "code",
   "execution_count": 1046,
   "metadata": {},
   "outputs": [],
   "source": [
    "#Evaluates the percentage of GPD per capita spent on weekends for each state\n",
    "gpd_spent_on_weekends = dados_estados_brasileiros['average_weekends']/(dados_estados_brasileiros['habitants']*dados_estados_brasileiros['gpd_per_capita'])\n"
   ]
  },
  {
   "cell_type": "code",
   "execution_count": 1047,
   "metadata": {},
   "outputs": [
    {
     "data": {
      "text/plain": [
       "Text(0.5, 0, 'State')"
      ]
     },
     "execution_count": 1047,
     "metadata": {},
     "output_type": "execute_result"
    },
    {
     "data": {
      "image/png": "[encoded data removed]",
      "text/plain": [
       "<Figure size 504x360 with 1 Axes>"
      ]
     },
     "metadata": {
      "needs_background": "light"
     },
     "output_type": "display_data"
    }
   ],
   "source": [
    "plt.bar(state_list,gpd_spent_on_weekends)\n",
    "plt.title('Percentage spent on weekend day per state (GPD)')\n",
    "plt.ylabel('Percentage of gpd')\n",
    "plt.xlabel('State')"
   ]
  },
  {
   "cell_type": "markdown",
   "metadata": {},
   "source": [
    "## Questão 3.4"
   ]
  },
  {
   "cell_type": "code",
   "execution_count": 1048,
   "metadata": {},
   "outputs": [
    {
     "data": {
      "text/plain": [
       "Text(0.5, 0, 'State')"
      ]
     },
     "execution_count": 1048,
     "metadata": {},
     "output_type": "execute_result"
    },
    {
     "data": {
      "image/png": "[encoded data removed]",
      "text/plain": [
       "<Figure size 504x360 with 1 Axes>"
      ]
     },
     "metadata": {
      "needs_background": "light"
     },
     "output_type": "display_data"
    }
   ],
   "source": [
    "#Get a list with number of stores per state\n",
    "number_of_stores = []\n",
    "for state in state_list:\n",
    "    n = len(set(offline_sales[offline_sales['state'] == state]['store_id']))\n",
    "    number_of_stores.append(n)\n",
    "    \n",
    "#Calculates the average spent per store on weekends for each state\n",
    "average_on_weekends = pd.DataFrame(list(zip(state_list, number_of_stores, average_spent_on_weekends)))\n",
    "average_on_weekends.rename(columns = {0:'state', 1:'number_of_stores', 2:'average_spent_on_weekends'}, inplace = True)\n",
    "average_on_weekends['average_on_weekend_per_store'] = average_on_weekends['average_spent_on_weekends']/average_on_weekends['number_of_stores']\n",
    "\n",
    "#Plot graphic\n",
    "plt.bar(average_on_weekends['state'],average_on_weekends['average_on_weekend_per_store'])\n",
    "plt.title('Percentage spent on weekend and number os stores)')\n",
    "plt.ylabel('Spent per store on weekend')\n",
    "plt.xlabel('State')\n"
   ]
  },
  {
   "cell_type": "markdown",
   "metadata": {},
   "source": [
    "## Questão 3.5 "
   ]
  },
  {
   "cell_type": "code",
   "execution_count": 1049,
   "metadata": {
    "scrolled": true
   },
   "outputs": [],
   "source": [
    "#Add column week to df\n",
    "sales['week'] = sales['date'].dt.week\n",
    "\n",
    "#Creates new df for RJ's sales\n",
    "sales_rj = sales[sales['state'] == 'RJ']"
   ]
  },
  {
   "cell_type": "code",
   "execution_count": 1050,
   "metadata": {},
   "outputs": [],
   "source": [
    "#Separate dfs in week days and weekend days\n",
    "sales_rj_weekly = sales_rj.groupby(['week','dayOfTheWeek'], as_index = False)['totalPrice'].sum()\n",
    "sales_rj_weekly_weekend = sales_rj_weekly[sales_rj_weekly['dayOfTheWeek'] >= 5]\n",
    "sales_rj_weekly_weekdays = sales_rj_weekly[sales_rj_weekly['dayOfTheWeek'] < 5]\n",
    "\n",
    "\n",
    "#Calculates the average percentage of week days and weekend days for each week\n",
    "week_list = list(sales_rj_weekly_weekend['week'].value_counts().index)\n",
    "semana = []\n",
    "average_per_week_weekends = []\n",
    "average_per_week_weekdays = []\n",
    "percentage_per_week_weekends = []\n",
    "percentage_per_week_weekdays = []\n",
    "average_per_week = []\n",
    "\n",
    "for week in week_list:\n",
    "    average_weekends = sales_rj_weekly_weekend[sales_rj_weekly_weekend['week'] == week]['totalPrice'].sum()/2\n",
    "    average_weekdays = sales_rj_weekly_weekdays[sales_rj_weekly_weekdays['week'] == week]['totalPrice'].sum()/5\n",
    "    average_per_week_weekends.append(average_weekends)\n",
    "    average_per_week_weekdays.append(average_weekdays)\n",
    "    percentage_weekends = average_weekends/sales_rj_weekly[sales_rj_weekly['week'] == week]['totalPrice'].sum()\n",
    "    percentage_weekdays = average_weekdays/sales_rj_weekly[sales_rj_weekly['week'] == week]['totalPrice'].sum()\n",
    "    percentage_per_week_weekends.append(percentage_weekends)\n",
    "    percentage_per_week_weekdays.append(percentage_weekdays)\n",
    "    semana.append(week)\n",
    "    percentage\n",
    "    \n",
    "average_per_week = pd.DataFrame(list(zip(semana,percentage_per_week_weekends,percentage_per_week_weekdays))).rename(columns = {0:'week', 1:'average_weekends', 2:'average_weekdays'})\n",
    "\n"
   ]
  },
  {
   "cell_type": "code",
   "execution_count": 1051,
   "metadata": {
    "scrolled": false
   },
   "outputs": [
    {
     "name": "stderr",
     "output_type": "stream",
     "text": [
      "/dev/data/home/eller/anaconda3/lib/python3.7/site-packages/seaborn/categorical.py:3666: UserWarning:\n",
      "\n",
      "The `factorplot` function has been renamed to `catplot`. The original name will be removed in a future release. Please update your code. Note that the default `kind` in `factorplot` (`'point'`) has changed `'strip'` in `catplot`.\n",
      "\n"
     ]
    },
    {
     "data": {
      "text/plain": [
       "Text(0.5, 20.80000000000002, 'Week')"
      ]
     },
     "execution_count": 1051,
     "metadata": {},
     "output_type": "execute_result"
    },
    {
     "data": {
      "image/png": "[encoded data removed]",
      "text/plain": [
       "<Figure size 492.125x360 with 1 Axes>"
      ]
     },
     "metadata": {
      "needs_background": "light"
     },
     "output_type": "display_data"
    }
   ],
   "source": [
    "#Plot graphic\n",
    "df = pd.melt(average_per_week, id_vars = 'week', var_name = 'day of the week', value_name = 'percentage').sort_values(by=['week'])\n",
    "sns.factorplot(x='week', y='percentage', hue='day of the week', data=df, kind='bar')\n",
    "plt.title('Average spent on week/weekend days and weeks')\n",
    "plt.ylabel('Percentage')\n",
    "plt.xlabel('Week')\n"
   ]
  },
  {
   "cell_type": "markdown",
   "metadata": {},
   "source": [
    "## Questão 4"
   ]
  },
  {
   "cell_type": "code",
   "execution_count": 1052,
   "metadata": {},
   "outputs": [
    {
     "name": "stderr",
     "output_type": "stream",
     "text": [
      "/dev/data/home/eller/anaconda3/lib/python3.7/site-packages/ipykernel_launcher.py:4: SettingWithCopyWarning:\n",
      "\n",
      "\n",
      "A value is trying to be set on a copy of a slice from a DataFrame\n",
      "\n",
      "See the caveats in the documentation: http://pandas.pydata.org/pandas-docs/stable/indexing.html#indexing-view-versus-copy\n",
      "\n"
     ]
    }
   ],
   "source": [
    "#Drop NaN rows to optimze search\n",
    "online_views1 = online_views.dropna(subset = ['customer_id'])\n",
    "offline_sales1 = offline_sales.dropna(subset = ['customer_id'])\n",
    "online_views1.sort_values(by=['customer_id'], inplace = True)\n",
    "\n",
    "#Search common customers in offline_sales and online_views\n",
    "looked_online_bought_offline = []\n",
    "for customer_id in offline_sales1['customer_id']:\n",
    "    if customer_id in set(online_views1['customer_id']):\n",
    "        looked_online_bought_offline.append(customer_id)\n",
    "    \n",
    "looked_online_bought_off = len(set(looked_online_bought_offline))\n",
    "\n"
   ]
  },
  {
   "cell_type": "code",
   "execution_count": 1053,
   "metadata": {},
   "outputs": [
    {
     "name": "stdout",
     "output_type": "stream",
     "text": [
      "The percentage of customers that looked online and bought offline in relation to all offline sales is: 4.05 %\n"
     ]
    }
   ],
   "source": [
    "#Calculates the percentage of customers that looked online and bought offline in relation to all offline sales\n",
    "percentage_customers_looked_online_bought_offline = looked_online_bought_off/offline_sales['sale_id'].nunique()\n",
    "print('The percentage of customers that looked online and bought offline in relation to all offline sales is:', round(percentage_customers_looked_online_bought_offline*100,3),'%')"
   ]
  },
  {
   "cell_type": "markdown",
   "metadata": {},
   "source": [
    "### Análises adicionais  - Probabilidades"
   ]
  },
  {
   "cell_type": "code",
   "execution_count": 1054,
   "metadata": {},
   "outputs": [],
   "source": [
    "#Calculate the sample space of the probabilities\n",
    "sample_space = dados_estados_brasileiros['habitants'].sum()\n",
    "\n",
    "#Calculate number of elements in events\n",
    "looked_online = online_views['visitor_id'].nunique()\n",
    "bought_offline = offline_sales['sale_id'].nunique()\n",
    "looked_online_bought_off = len(set(looked_online_bought_offline))\n",
    "\n",
    "#Calculate probabilities of the events\n",
    "probability_looking_online = looked_online/sample_space\n",
    "probability_buying_offline = bought_offline/sample_space\n",
    "probability_not_looking_online_buying_offline = (bought_offline - looked_online_bought_off)/sample_space\n",
    "probability_looking_online_buying_offline = looked_online_bought_off/looked_online\n"
   ]
  },
  {
   "cell_type": "code",
   "execution_count": 1055,
   "metadata": {},
   "outputs": [
    {
     "data": {
      "text/html": [
       "<div>\n",
       "<style scoped>\n",
       "    .dataframe tbody tr th:only-of-type {\n",
       "        vertical-align: middle;\n",
       "    }\n",
       "\n",
       "    .dataframe tbody tr th {\n",
       "        vertical-align: top;\n",
       "    }\n",
       "\n",
       "    .dataframe thead th {\n",
       "        text-align: right;\n",
       "    }\n",
       "</style>\n",
       "<table border=\"1\" class=\"dataframe\">\n",
       "  <thead>\n",
       "    <tr style=\"text-align: right;\">\n",
       "      <th></th>\n",
       "      <th>probability</th>\n",
       "      <th>values</th>\n",
       "    </tr>\n",
       "  </thead>\n",
       "  <tbody>\n",
       "    <tr>\n",
       "      <th>0</th>\n",
       "      <td>Probability looking online</td>\n",
       "      <td>0.007011</td>\n",
       "    </tr>\n",
       "    <tr>\n",
       "      <th>1</th>\n",
       "      <td>Probability buying offline</td>\n",
       "      <td>0.000119</td>\n",
       "    </tr>\n",
       "    <tr>\n",
       "      <th>2</th>\n",
       "      <td>Probability not looking online, buying offline</td>\n",
       "      <td>0.000114</td>\n",
       "    </tr>\n",
       "    <tr>\n",
       "      <th>3</th>\n",
       "      <td>Probability looking online, buying offline</td>\n",
       "      <td>0.000685</td>\n",
       "    </tr>\n",
       "  </tbody>\n",
       "</table>\n",
       "</div>"
      ],
      "text/plain": [
       "                                      probability    values\n",
       "0                      Probability looking online  0.007011\n",
       "1                      Probability buying offline  0.000119\n",
       "2  Probability not looking online, buying offline  0.000114\n",
       "3      Probability looking online, buying offline  0.000685"
      ]
     },
     "execution_count": 1055,
     "metadata": {},
     "output_type": "execute_result"
    },
    {
     "data": {
      "image/png": "[encoded data removed]",
      "text/plain": [
       "<Figure size 864x360 with 1 Axes>"
      ]
     },
     "metadata": {
      "needs_background": "light"
     },
     "output_type": "display_data"
    }
   ],
   "source": [
    "#Plot graph\n",
    "probability_data = {'probability' : ['Probability looking online', 'Probability buying offline', 'Probability not looking online, buying offline', 'Probability looking online, buying offline'],\n",
    "                   'values' : [round(probability_looking_online,6), round(probability_buying_offline,6), round(probability_not_looking_online_buying_offline,6), round(probability_looking_online_buying_offline,6)]}\n",
    "\n",
    "plt.rcParams['figure.figsize'] = (12,5)\n",
    "probabilities = pd.DataFrame(probability_data)\n",
    "plt.bar(probability_data['probability'][1:4], probability_data['values'][1:4])\n",
    "plt.title('Probabilities')\n",
    "plt.ylabel('Probabilities')\n",
    "plt.xlabel('Events')\n",
    "\n",
    "probabilities\n"
   ]
  },
  {
   "cell_type": "markdown",
   "metadata": {},
   "source": [
    "### Fluxo de produtos "
   ]
  },
  {
   "cell_type": "code",
   "execution_count": 1056,
   "metadata": {},
   "outputs": [],
   "source": [
    "#Search common customer in page_views and online_orders\n",
    "looked_online_with_id_bought_online_list = []\n",
    "for customer_id in online_orders['customer_id']:\n",
    "    if customer_id in set(online_views1['customer_id']):\n",
    "        looked_online_with_id_bought_online_list.append(customer_id)\n"
   ]
  },
  {
   "cell_type": "code",
   "execution_count": 1057,
   "metadata": {},
   "outputs": [],
   "source": [
    "online_views2 = online_views.dropna(subset = ['customer_id'])\n",
    "\n",
    "#Node 1 Sankey\n",
    "looked_online_all = online_views['on_product_id'].count()\n",
    "online_views2 = online_views.dropna(subset = ['customer_id'])\n",
    "looked_online_with_id = online_views2['on_product_id'].count()\n",
    "looked_online_no_id = looked_online_all - looked_online_with_id\n",
    "\n",
    "#Node 2 Sankey\n",
    "online_orders2 = online_orders.dropna(subset = ['customer_id'])\n",
    "looked_online_with_id_bought_online = online_orders2['on_product_id'].count()\n",
    "looked_online_with_id_didnt_buy_online = looked_online_with_id - looked_online_with_id_bought_online\n",
    "\n",
    "#Node 3 Sankey\n",
    "looked_online_no_id_bought_online = len(online_orders['visitor_id']) - looked_online_with_id_bought_online\n",
    "looked_online_no_id_didnt_buy = looked_online_no_id - looked_online_no_id_bought_online\n",
    "\n",
    "#Node 4 Sankey\n",
    "looked_online_with_id_didnt_buy_online_bought_offline = looked_online_bought_off\n",
    "looked_online_with_id_didnt_buy = looked_online_with_id_didnt_buy_online - looked_online_with_id_didnt_buy_online_bought_offline\n",
    "\n"
   ]
  },
  {
   "cell_type": "code",
   "execution_count": 1058,
   "metadata": {},
   "outputs": [
    {
     "data": {
      "application/vnd.plotly.v1+json": {
       "config": {
        "plotlyServerURL": "https://plot.ly"
       },
       "data": [
        {
         "link": {
          "source": [
           0,
           0,
           2,
           2,
           1,
           1,
           6,
           6
          ],
          "target": [
           1,
           2,
           3,
           4,
           5,
           6,
           7,
           8
          ],
          "value": [
           21046,
           1384124,
           4480,
           1379644,
           7757,
           13289,
           592,
           12697
          ]
         },
         "node": {
          "color": "blue",
          "label": [
           "0 Products displayed online (all)",
           "1 Products displayed online with id",
           "2 Products displayed online without id",
           "3 Products sold online without id",
           "4 Products displayed online without id not sold",
           "5 Products sold online with id",
           "6 Products displayed online with id not sold online",
           "7 Products displayed online with id sold offline",
           "8 Products displayed online with id not sold"
          ],
          "line": {
           "color": "black",
           "width": 0.5
          },
          "pad": 15,
          "thickness": 20
         },
         "type": "sankey"
        }
       ],
       "layout": {
        "font": {
         "size": 10
        },
        "template": {
         "data": {
          "bar": [
           {
            "error_x": {
             "color": "#2a3f5f"
            },
            "error_y": {
             "color": "#2a3f5f"
            },
            "marker": {
             "line": {
              "color": "#E5ECF6",
              "width": 0.5
             }
            },
            "type": "bar"
           }
          ],
          "barpolar": [
           {
            "marker": {
             "line": {
              "color": "#E5ECF6",
              "width": 0.5
             }
            },
            "type": "barpolar"
           }
          ],
          "carpet": [
           {
            "aaxis": {
             "endlinecolor": "#2a3f5f",
             "gridcolor": "white",
             "linecolor": "white",
             "minorgridcolor": "white",
             "startlinecolor": "#2a3f5f"
            },
            "baxis": {
             "endlinecolor": "#2a3f5f",
             "gridcolor": "white",
             "linecolor": "white",
             "minorgridcolor": "white",
             "startlinecolor": "#2a3f5f"
            },
            "type": "carpet"
           }
          ],
          "choropleth": [
           {
            "colorbar": {
             "outlinewidth": 0,
             "ticks": ""
            },
            "type": "choropleth"
           }
          ],
          "contour": [
           {
            "colorbar": {
             "outlinewidth": 0,
             "ticks": ""
            },
            "colorscale": [
             [
              0,
              "#0d0887"
             ],
             [
              0.1111111111111111,
              "#46039f"
             ],
             [
              0.2222222222222222,
              "#7201a8"
             ],
             [
              0.3333333333333333,
              "#9c179e"
             ],
             [
              0.4444444444444444,
              "#bd3786"
             ],
             [
              0.5555555555555556,
              "#d8576b"
             ],
             [
              0.6666666666666666,
              "#ed7953"
             ],
             [
              0.7777777777777778,
              "#fb9f3a"
             ],
             [
              0.8888888888888888,
              "#fdca26"
             ],
             [
              1,
              "#f0f921"
             ]
            ],
            "type": "contour"
           }
          ],
          "contourcarpet": [
           {
            "colorbar": {
             "outlinewidth": 0,
             "ticks": ""
            },
            "type": "contourcarpet"
           }
          ],
          "heatmap": [
           {
            "colorbar": {
             "outlinewidth": 0,
             "ticks": ""
            },
            "colorscale": [
             [
              0,
              "#0d0887"
             ],
             [
              0.1111111111111111,
              "#46039f"
             ],
             [
              0.2222222222222222,
              "#7201a8"
             ],
             [
              0.3333333333333333,
              "#9c179e"
             ],
             [
              0.4444444444444444,
              "#bd3786"
             ],
             [
              0.5555555555555556,
              "#d8576b"
             ],
             [
              0.6666666666666666,
              "#ed7953"
             ],
             [
              0.7777777777777778,
              "#fb9f3a"
             ],
             [
              0.8888888888888888,
              "#fdca26"
             ],
             [
              1,
              "#f0f921"
             ]
            ],
            "type": "heatmap"
           }
          ],
          "heatmapgl": [
           {
            "colorbar": {
             "outlinewidth": 0,
             "ticks": ""
            },
            "colorscale": [
             [
              0,
              "#0d0887"
             ],
             [
              0.1111111111111111,
              "#46039f"
             ],
             [
              0.2222222222222222,
              "#7201a8"
             ],
             [
              0.3333333333333333,
              "#9c179e"
             ],
             [
              0.4444444444444444,
              "#bd3786"
             ],
             [
              0.5555555555555556,
              "#d8576b"
             ],
             [
              0.6666666666666666,
              "#ed7953"
             ],
             [
              0.7777777777777778,
              "#fb9f3a"
             ],
             [
              0.8888888888888888,
              "#fdca26"
             ],
             [
              1,
              "#f0f921"
             ]
            ],
            "type": "heatmapgl"
           }
          ],
          "histogram": [
           {
            "marker": {
             "colorbar": {
              "outlinewidth": 0,
              "ticks": ""
             }
            },
            "type": "histogram"
           }
          ],
          "histogram2d": [
           {
            "colorbar": {
             "outlinewidth": 0,
             "ticks": ""
            },
            "colorscale": [
             [
              0,
              "#0d0887"
             ],
             [
              0.1111111111111111,
              "#46039f"
             ],
             [
              0.2222222222222222,
              "#7201a8"
             ],
             [
              0.3333333333333333,
              "#9c179e"
             ],
             [
              0.4444444444444444,
              "#bd3786"
             ],
             [
              0.5555555555555556,
              "#d8576b"
             ],
             [
              0.6666666666666666,
              "#ed7953"
             ],
             [
              0.7777777777777778,
              "#fb9f3a"
             ],
             [
              0.8888888888888888,
              "#fdca26"
             ],
             [
              1,
              "#f0f921"
             ]
            ],
            "type": "histogram2d"
           }
          ],
          "histogram2dcontour": [
           {
            "colorbar": {
             "outlinewidth": 0,
             "ticks": ""
            },
            "colorscale": [
             [
              0,
              "#0d0887"
             ],
             [
              0.1111111111111111,
              "#46039f"
             ],
             [
              0.2222222222222222,
              "#7201a8"
             ],
             [
              0.3333333333333333,
              "#9c179e"
             ],
             [
              0.4444444444444444,
              "#bd3786"
             ],
             [
              0.5555555555555556,
              "#d8576b"
             ],
             [
              0.6666666666666666,
              "#ed7953"
             ],
             [
              0.7777777777777778,
              "#fb9f3a"
             ],
             [
              0.8888888888888888,
              "#fdca26"
             ],
             [
              1,
              "#f0f921"
             ]
            ],
            "type": "histogram2dcontour"
           }
          ],
          "mesh3d": [
           {
            "colorbar": {
             "outlinewidth": 0,
             "ticks": ""
            },
            "type": "mesh3d"
           }
          ],
          "parcoords": [
           {
            "line": {
             "colorbar": {
              "outlinewidth": 0,
              "ticks": ""
             }
            },
            "type": "parcoords"
           }
          ],
          "pie": [
           {
            "automargin": true,
            "type": "pie"
           }
          ],
          "scatter": [
           {
            "marker": {
             "colorbar": {
              "outlinewidth": 0,
              "ticks": ""
             }
            },
            "type": "scatter"
           }
          ],
          "scatter3d": [
           {
            "line": {
             "colorbar": {
              "outlinewidth": 0,
              "ticks": ""
             }
            },
            "marker": {
             "colorbar": {
              "outlinewidth": 0,
              "ticks": ""
             }
            },
            "type": "scatter3d"
           }
          ],
          "scattercarpet": [
           {
            "marker": {
             "colorbar": {
              "outlinewidth": 0,
              "ticks": ""
             }
            },
            "type": "scattercarpet"
           }
          ],
          "scattergeo": [
           {
            "marker": {
             "colorbar": {
              "outlinewidth": 0,
              "ticks": ""
             }
            },
            "type": "scattergeo"
           }
          ],
          "scattergl": [
           {
            "marker": {
             "colorbar": {
              "outlinewidth": 0,
              "ticks": ""
             }
            },
            "type": "scattergl"
           }
          ],
          "scattermapbox": [
           {
            "marker": {
             "colorbar": {
              "outlinewidth": 0,
              "ticks": ""
             }
            },
            "type": "scattermapbox"
           }
          ],
          "scatterpolar": [
           {
            "marker": {
             "colorbar": {
              "outlinewidth": 0,
              "ticks": ""
             }
            },
            "type": "scatterpolar"
           }
          ],
          "scatterpolargl": [
           {
            "marker": {
             "colorbar": {
              "outlinewidth": 0,
              "ticks": ""
             }
            },
            "type": "scatterpolargl"
           }
          ],
          "scatterternary": [
           {
            "marker": {
             "colorbar": {
              "outlinewidth": 0,
              "ticks": ""
             }
            },
            "type": "scatterternary"
           }
          ],
          "surface": [
           {
            "colorbar": {
             "outlinewidth": 0,
             "ticks": ""
            },
            "colorscale": [
             [
              0,
              "#0d0887"
             ],
             [
              0.1111111111111111,
              "#46039f"
             ],
             [
              0.2222222222222222,
              "#7201a8"
             ],
             [
              0.3333333333333333,
              "#9c179e"
             ],
             [
              0.4444444444444444,
              "#bd3786"
             ],
             [
              0.5555555555555556,
              "#d8576b"
             ],
             [
              0.6666666666666666,
              "#ed7953"
             ],
             [
              0.7777777777777778,
              "#fb9f3a"
             ],
             [
              0.8888888888888888,
              "#fdca26"
             ],
             [
              1,
              "#f0f921"
             ]
            ],
            "type": "surface"
           }
          ],
          "table": [
           {
            "cells": {
             "fill": {
              "color": "#EBF0F8"
             },
             "line": {
              "color": "white"
             }
            },
            "header": {
             "fill": {
              "color": "#C8D4E3"
             },
             "line": {
              "color": "white"
             }
            },
            "type": "table"
           }
          ]
         },
         "layout": {
          "annotationdefaults": {
           "arrowcolor": "#2a3f5f",
           "arrowhead": 0,
           "arrowwidth": 1
          },
          "coloraxis": {
           "colorbar": {
            "outlinewidth": 0,
            "ticks": ""
           }
          },
          "colorscale": {
           "diverging": [
            [
             0,
             "#8e0152"
            ],
            [
             0.1,
             "#c51b7d"
            ],
            [
             0.2,
             "#de77ae"
            ],
            [
             0.3,
             "#f1b6da"
            ],
            [
             0.4,
             "#fde0ef"
            ],
            [
             0.5,
             "#f7f7f7"
            ],
            [
             0.6,
             "#e6f5d0"
            ],
            [
             0.7,
             "#b8e186"
            ],
            [
             0.8,
             "#7fbc41"
            ],
            [
             0.9,
             "#4d9221"
            ],
            [
             1,
             "#276419"
            ]
           ],
           "sequential": [
            [
             0,
             "#0d0887"
            ],
            [
             0.1111111111111111,
             "#46039f"
            ],
            [
             0.2222222222222222,
             "#7201a8"
            ],
            [
             0.3333333333333333,
             "#9c179e"
            ],
            [
             0.4444444444444444,
             "#bd3786"
            ],
            [
             0.5555555555555556,
             "#d8576b"
            ],
            [
             0.6666666666666666,
             "#ed7953"
            ],
            [
             0.7777777777777778,
             "#fb9f3a"
            ],
            [
             0.8888888888888888,
             "#fdca26"
            ],
            [
             1,
             "#f0f921"
            ]
           ],
           "sequentialminus": [
            [
             0,
             "#0d0887"
            ],
            [
             0.1111111111111111,
             "#46039f"
            ],
            [
             0.2222222222222222,
             "#7201a8"
            ],
            [
             0.3333333333333333,
             "#9c179e"
            ],
            [
             0.4444444444444444,
             "#bd3786"
            ],
            [
             0.5555555555555556,
             "#d8576b"
            ],
            [
             0.6666666666666666,
             "#ed7953"
            ],
            [
             0.7777777777777778,
             "#fb9f3a"
            ],
            [
             0.8888888888888888,
             "#fdca26"
            ],
            [
             1,
             "#f0f921"
            ]
           ]
          },
          "colorway": [
           "#636efa",
           "#EF553B",
           "#00cc96",
           "#ab63fa",
           "#FFA15A",
           "#19d3f3",
           "#FF6692",
           "#B6E880",
           "#FF97FF",
           "#FECB52"
          ],
          "font": {
           "color": "#2a3f5f"
          },
          "geo": {
           "bgcolor": "white",
           "lakecolor": "white",
           "landcolor": "#E5ECF6",
           "showlakes": true,
           "showland": true,
           "subunitcolor": "white"
          },
          "hoverlabel": {
           "align": "left"
          },
          "hovermode": "closest",
          "mapbox": {
           "style": "light"
          },
          "paper_bgcolor": "white",
          "plot_bgcolor": "#E5ECF6",
          "polar": {
           "angularaxis": {
            "gridcolor": "white",
            "linecolor": "white",
            "ticks": ""
           },
           "bgcolor": "#E5ECF6",
           "radialaxis": {
            "gridcolor": "white",
            "linecolor": "white",
            "ticks": ""
           }
          },
          "scene": {
           "xaxis": {
            "backgroundcolor": "#E5ECF6",
            "gridcolor": "white",
            "gridwidth": 2,
            "linecolor": "white",
            "showbackground": true,
            "ticks": "",
            "zerolinecolor": "white"
           },
           "yaxis": {
            "backgroundcolor": "#E5ECF6",
            "gridcolor": "white",
            "gridwidth": 2,
            "linecolor": "white",
            "showbackground": true,
            "ticks": "",
            "zerolinecolor": "white"
           },
           "zaxis": {
            "backgroundcolor": "#E5ECF6",
            "gridcolor": "white",
            "gridwidth": 2,
            "linecolor": "white",
            "showbackground": true,
            "ticks": "",
            "zerolinecolor": "white"
           }
          },
          "shapedefaults": {
           "line": {
            "color": "#2a3f5f"
           }
          },
          "ternary": {
           "aaxis": {
            "gridcolor": "white",
            "linecolor": "white",
            "ticks": ""
           },
           "baxis": {
            "gridcolor": "white",
            "linecolor": "white",
            "ticks": ""
           },
           "bgcolor": "#E5ECF6",
           "caxis": {
            "gridcolor": "white",
            "linecolor": "white",
            "ticks": ""
           }
          },
          "title": {
           "x": 0.05
          },
          "xaxis": {
           "automargin": true,
           "gridcolor": "white",
           "linecolor": "white",
           "ticks": "",
           "title": {
            "standoff": 15
           },
           "zerolinecolor": "white",
           "zerolinewidth": 2
          },
          "yaxis": {
           "automargin": true,
           "gridcolor": "white",
           "linecolor": "white",
           "ticks": "",
           "title": {
            "standoff": 15
           },
           "zerolinecolor": "white",
           "zerolinewidth": 2
          }
         }
        },
        "title": {
         "text": "Pipeline convertion"
        }
       }
      },
      "text/html": [
       "<div>\n",
       "        \n",
       "        \n",
       "            <div id=\"01a2ca68-a440-49c8-a26b-550e567918cb\" class=\"plotly-graph-div\" style=\"height:525px; width:100%;\"></div>\n",
       "            <script type=\"text/javascript\">\n",
       "                require([\"plotly\"], function(Plotly) {\n",
       "                    window.PLOTLYENV=window.PLOTLYENV || {};\n",
       "                    \n",
       "                if (document.getElementById(\"01a2ca68-a440-49c8-a26b-550e567918cb\")) {\n",
       "                    Plotly.newPlot(\n",
       "                        '01a2ca68-a440-49c8-a26b-550e567918cb',\n",
       "                        [{\"link\": {\"source\": [0, 0, 2, 2, 1, 1, 6, 6], \"target\": [1, 2, 3, 4, 5, 6, 7, 8], \"value\": [21046, 1384124, 4480, 1379644, 7757, 13289, 592, 12697]}, \"node\": {\"color\": \"blue\", \"label\": [\"0 Products displayed online (all)\", \"1 Products displayed online with id\", \"2 Products displayed online without id\", \"3 Products sold online without id\", \"4 Products displayed online without id not sold\", \"5 Products sold online with id\", \"6 Products displayed online with id not sold online\", \"7 Products displayed online with id sold offline\", \"8 Products displayed online with id not sold\"], \"line\": {\"color\": \"black\", \"width\": 0.5}, \"pad\": 15, \"thickness\": 20}, \"type\": \"sankey\"}],\n",
       "                        {\"font\": {\"size\": 10}, \"template\": {\"data\": {\"bar\": [{\"error_x\": {\"color\": \"#2a3f5f\"}, \"error_y\": {\"color\": \"#2a3f5f\"}, \"marker\": {\"line\": {\"color\": \"#E5ECF6\", \"width\": 0.5}}, \"type\": \"bar\"}], \"barpolar\": [{\"marker\": {\"line\": {\"color\": \"#E5ECF6\", \"width\": 0.5}}, \"type\": \"barpolar\"}], \"carpet\": [{\"aaxis\": {\"endlinecolor\": \"#2a3f5f\", \"gridcolor\": \"white\", \"linecolor\": \"white\", \"minorgridcolor\": \"white\", \"startlinecolor\": \"#2a3f5f\"}, \"baxis\": {\"endlinecolor\": \"#2a3f5f\", \"gridcolor\": \"white\", \"linecolor\": \"white\", \"minorgridcolor\": \"white\", \"startlinecolor\": \"#2a3f5f\"}, \"type\": \"carpet\"}], \"choropleth\": [{\"colorbar\": {\"outlinewidth\": 0, \"ticks\": \"\"}, \"type\": \"choropleth\"}], \"contour\": [{\"colorbar\": {\"outlinewidth\": 0, \"ticks\": \"\"}, \"colorscale\": [[0.0, \"#0d0887\"], [0.1111111111111111, \"#46039f\"], [0.2222222222222222, \"#7201a8\"], [0.3333333333333333, \"#9c179e\"], [0.4444444444444444, \"#bd3786\"], [0.5555555555555556, \"#d8576b\"], [0.6666666666666666, \"#ed7953\"], [0.7777777777777778, \"#fb9f3a\"], [0.8888888888888888, \"#fdca26\"], [1.0, \"#f0f921\"]], \"type\": \"contour\"}], \"contourcarpet\": [{\"colorbar\": {\"outlinewidth\": 0, \"ticks\": \"\"}, \"type\": \"contourcarpet\"}], \"heatmap\": [{\"colorbar\": {\"outlinewidth\": 0, \"ticks\": \"\"}, \"colorscale\": [[0.0, \"#0d0887\"], [0.1111111111111111, \"#46039f\"], [0.2222222222222222, \"#7201a8\"], [0.3333333333333333, \"#9c179e\"], [0.4444444444444444, \"#bd3786\"], [0.5555555555555556, \"#d8576b\"], [0.6666666666666666, \"#ed7953\"], [0.7777777777777778, \"#fb9f3a\"], [0.8888888888888888, \"#fdca26\"], [1.0, \"#f0f921\"]], \"type\": \"heatmap\"}], \"heatmapgl\": [{\"colorbar\": {\"outlinewidth\": 0, \"ticks\": \"\"}, \"colorscale\": [[0.0, \"#0d0887\"], [0.1111111111111111, \"#46039f\"], [0.2222222222222222, \"#7201a8\"], [0.3333333333333333, \"#9c179e\"], [0.4444444444444444, \"#bd3786\"], [0.5555555555555556, \"#d8576b\"], [0.6666666666666666, \"#ed7953\"], [0.7777777777777778, \"#fb9f3a\"], [0.8888888888888888, \"#fdca26\"], [1.0, \"#f0f921\"]], \"type\": \"heatmapgl\"}], \"histogram\": [{\"marker\": {\"colorbar\": {\"outlinewidth\": 0, \"ticks\": \"\"}}, \"type\": \"histogram\"}], \"histogram2d\": [{\"colorbar\": {\"outlinewidth\": 0, \"ticks\": \"\"}, \"colorscale\": [[0.0, \"#0d0887\"], [0.1111111111111111, \"#46039f\"], [0.2222222222222222, \"#7201a8\"], [0.3333333333333333, \"#9c179e\"], [0.4444444444444444, \"#bd3786\"], [0.5555555555555556, \"#d8576b\"], [0.6666666666666666, \"#ed7953\"], [0.7777777777777778, \"#fb9f3a\"], [0.8888888888888888, \"#fdca26\"], [1.0, \"#f0f921\"]], \"type\": \"histogram2d\"}], \"histogram2dcontour\": [{\"colorbar\": {\"outlinewidth\": 0, \"ticks\": \"\"}, \"colorscale\": [[0.0, \"#0d0887\"], [0.1111111111111111, \"#46039f\"], [0.2222222222222222, \"#7201a8\"], [0.3333333333333333, \"#9c179e\"], [0.4444444444444444, \"#bd3786\"], [0.5555555555555556, \"#d8576b\"], [0.6666666666666666, \"#ed7953\"], [0.7777777777777778, \"#fb9f3a\"], [0.8888888888888888, \"#fdca26\"], [1.0, \"#f0f921\"]], \"type\": \"histogram2dcontour\"}], \"mesh3d\": [{\"colorbar\": {\"outlinewidth\": 0, \"ticks\": \"\"}, \"type\": \"mesh3d\"}], \"parcoords\": [{\"line\": {\"colorbar\": {\"outlinewidth\": 0, \"ticks\": \"\"}}, \"type\": \"parcoords\"}], \"pie\": [{\"automargin\": true, \"type\": \"pie\"}], \"scatter\": [{\"marker\": {\"colorbar\": {\"outlinewidth\": 0, \"ticks\": \"\"}}, \"type\": \"scatter\"}], \"scatter3d\": [{\"line\": {\"colorbar\": {\"outlinewidth\": 0, \"ticks\": \"\"}}, \"marker\": {\"colorbar\": {\"outlinewidth\": 0, \"ticks\": \"\"}}, \"type\": \"scatter3d\"}], \"scattercarpet\": [{\"marker\": {\"colorbar\": {\"outlinewidth\": 0, \"ticks\": \"\"}}, \"type\": \"scattercarpet\"}], \"scattergeo\": [{\"marker\": {\"colorbar\": {\"outlinewidth\": 0, \"ticks\": \"\"}}, \"type\": \"scattergeo\"}], \"scattergl\": [{\"marker\": {\"colorbar\": {\"outlinewidth\": 0, \"ticks\": \"\"}}, \"type\": \"scattergl\"}], \"scattermapbox\": [{\"marker\": {\"colorbar\": {\"outlinewidth\": 0, \"ticks\": \"\"}}, \"type\": \"scattermapbox\"}], \"scatterpolar\": [{\"marker\": {\"colorbar\": {\"outlinewidth\": 0, \"ticks\": \"\"}}, \"type\": \"scatterpolar\"}], \"scatterpolargl\": [{\"marker\": {\"colorbar\": {\"outlinewidth\": 0, \"ticks\": \"\"}}, \"type\": \"scatterpolargl\"}], \"scatterternary\": [{\"marker\": {\"colorbar\": {\"outlinewidth\": 0, \"ticks\": \"\"}}, \"type\": \"scatterternary\"}], \"surface\": [{\"colorbar\": {\"outlinewidth\": 0, \"ticks\": \"\"}, \"colorscale\": [[0.0, \"#0d0887\"], [0.1111111111111111, \"#46039f\"], [0.2222222222222222, \"#7201a8\"], [0.3333333333333333, \"#9c179e\"], [0.4444444444444444, \"#bd3786\"], [0.5555555555555556, \"#d8576b\"], [0.6666666666666666, \"#ed7953\"], [0.7777777777777778, \"#fb9f3a\"], [0.8888888888888888, \"#fdca26\"], [1.0, \"#f0f921\"]], \"type\": \"surface\"}], \"table\": [{\"cells\": {\"fill\": {\"color\": \"#EBF0F8\"}, \"line\": {\"color\": \"white\"}}, \"header\": {\"fill\": {\"color\": \"#C8D4E3\"}, \"line\": {\"color\": \"white\"}}, \"type\": \"table\"}]}, \"layout\": {\"annotationdefaults\": {\"arrowcolor\": \"#2a3f5f\", \"arrowhead\": 0, \"arrowwidth\": 1}, \"coloraxis\": {\"colorbar\": {\"outlinewidth\": 0, \"ticks\": \"\"}}, \"colorscale\": {\"diverging\": [[0, \"#8e0152\"], [0.1, \"#c51b7d\"], [0.2, \"#de77ae\"], [0.3, \"#f1b6da\"], [0.4, \"#fde0ef\"], [0.5, \"#f7f7f7\"], [0.6, \"#e6f5d0\"], [0.7, \"#b8e186\"], [0.8, \"#7fbc41\"], [0.9, \"#4d9221\"], [1, \"#276419\"]], \"sequential\": [[0.0, \"#0d0887\"], [0.1111111111111111, \"#46039f\"], [0.2222222222222222, \"#7201a8\"], [0.3333333333333333, \"#9c179e\"], [0.4444444444444444, \"#bd3786\"], [0.5555555555555556, \"#d8576b\"], [0.6666666666666666, \"#ed7953\"], [0.7777777777777778, \"#fb9f3a\"], [0.8888888888888888, \"#fdca26\"], [1.0, \"#f0f921\"]], \"sequentialminus\": [[0.0, \"#0d0887\"], [0.1111111111111111, \"#46039f\"], [0.2222222222222222, \"#7201a8\"], [0.3333333333333333, \"#9c179e\"], [0.4444444444444444, \"#bd3786\"], [0.5555555555555556, \"#d8576b\"], [0.6666666666666666, \"#ed7953\"], [0.7777777777777778, \"#fb9f3a\"], [0.8888888888888888, \"#fdca26\"], [1.0, \"#f0f921\"]]}, \"colorway\": [\"#636efa\", \"#EF553B\", \"#00cc96\", \"#ab63fa\", \"#FFA15A\", \"#19d3f3\", \"#FF6692\", \"#B6E880\", \"#FF97FF\", \"#FECB52\"], \"font\": {\"color\": \"#2a3f5f\"}, \"geo\": {\"bgcolor\": \"white\", \"lakecolor\": \"white\", \"landcolor\": \"#E5ECF6\", \"showlakes\": true, \"showland\": true, \"subunitcolor\": \"white\"}, \"hoverlabel\": {\"align\": \"left\"}, \"hovermode\": \"closest\", \"mapbox\": {\"style\": \"light\"}, \"paper_bgcolor\": \"white\", \"plot_bgcolor\": \"#E5ECF6\", \"polar\": {\"angularaxis\": {\"gridcolor\": \"white\", \"linecolor\": \"white\", \"ticks\": \"\"}, \"bgcolor\": \"#E5ECF6\", \"radialaxis\": {\"gridcolor\": \"white\", \"linecolor\": \"white\", \"ticks\": \"\"}}, \"scene\": {\"xaxis\": {\"backgroundcolor\": \"#E5ECF6\", \"gridcolor\": \"white\", \"gridwidth\": 2, \"linecolor\": \"white\", \"showbackground\": true, \"ticks\": \"\", \"zerolinecolor\": \"white\"}, \"yaxis\": {\"backgroundcolor\": \"#E5ECF6\", \"gridcolor\": \"white\", \"gridwidth\": 2, \"linecolor\": \"white\", \"showbackground\": true, \"ticks\": \"\", \"zerolinecolor\": \"white\"}, \"zaxis\": {\"backgroundcolor\": \"#E5ECF6\", \"gridcolor\": \"white\", \"gridwidth\": 2, \"linecolor\": \"white\", \"showbackground\": true, \"ticks\": \"\", \"zerolinecolor\": \"white\"}}, \"shapedefaults\": {\"line\": {\"color\": \"#2a3f5f\"}}, \"ternary\": {\"aaxis\": {\"gridcolor\": \"white\", \"linecolor\": \"white\", \"ticks\": \"\"}, \"baxis\": {\"gridcolor\": \"white\", \"linecolor\": \"white\", \"ticks\": \"\"}, \"bgcolor\": \"#E5ECF6\", \"caxis\": {\"gridcolor\": \"white\", \"linecolor\": \"white\", \"ticks\": \"\"}}, \"title\": {\"x\": 0.05}, \"xaxis\": {\"automargin\": true, \"gridcolor\": \"white\", \"linecolor\": \"white\", \"ticks\": \"\", \"title\": {\"standoff\": 15}, \"zerolinecolor\": \"white\", \"zerolinewidth\": 2}, \"yaxis\": {\"automargin\": true, \"gridcolor\": \"white\", \"linecolor\": \"white\", \"ticks\": \"\", \"title\": {\"standoff\": 15}, \"zerolinecolor\": \"white\", \"zerolinewidth\": 2}}}, \"title\": {\"text\": \"Pipeline convertion\"}},\n",
       "                        {\"responsive\": true}\n",
       "                    ).then(function(){\n",
       "                            \n",
       "var gd = document.getElementById('01a2ca68-a440-49c8-a26b-550e567918cb');\n",
       "var x = new MutationObserver(function (mutations, observer) {{\n",
       "        var display = window.getComputedStyle(gd).display;\n",
       "        if (!display || display === 'none') {{\n",
       "            console.log([gd, 'removed!']);\n",
       "            Plotly.purge(gd);\n",
       "            observer.disconnect();\n",
       "        }}\n",
       "}});\n",
       "\n",
       "// Listen for the removal of the full notebook cells\n",
       "var notebookContainer = gd.closest('#notebook-container');\n",
       "if (notebookContainer) {{\n",
       "    x.observe(notebookContainer, {childList: true});\n",
       "}}\n",
       "\n",
       "// Listen for the clearing of the current output cell\n",
       "var outputEl = gd.closest('.output');\n",
       "if (outputEl) {{\n",
       "    x.observe(outputEl, {childList: true});\n",
       "}}\n",
       "\n",
       "                        })\n",
       "                };\n",
       "                });\n",
       "            </script>\n",
       "        </div>"
      ]
     },
     "metadata": {},
     "output_type": "display_data"
    }
   ],
   "source": [
    "#Plot Sankey Diagram\n",
    "\n",
    "fig = go.Figure(data=[go.Sankey(\n",
    "    node = dict(\n",
    "      pad = 15,\n",
    "      thickness = 20,\n",
    "      line = dict(color = \"black\", width = 0.5),\n",
    "      label = [\"0 Products displayed online (all)\", \"1 Products displayed online with id\",\"2 Products displayed online without id\", \n",
    "               \"3 Products sold online without id\", \"4 Products displayed online without id not sold\",\n",
    "               \"5 Products sold online with id\", \"6 Products displayed online with id not sold online\",\n",
    "                \"7 Products displayed online with id sold offline\", \"8 Products displayed online with id not sold\"],\n",
    "      color = \"blue\"\n",
    "    ),\n",
    "    link = dict(\n",
    "      source = [0, 0, 2, 2, 1, 1, 6, 6], # indices correspond to labels, eg A1, A2, A2, B1, ...\n",
    "      target = [1, 2, 3, 4, 5, 6, 7, 8],\n",
    "      value = [looked_online_with_id, looked_online_no_id, looked_online_no_id_bought_online, looked_online_no_id_didnt_buy, looked_online_with_id_bought_online, looked_online_with_id_didnt_buy_online, looked_online_with_id_didnt_buy_online_bought_offline, looked_online_with_id_didnt_buy]\n",
    "  ))])\n",
    "\n",
    "fig.update_layout(title_text=\"Pipeline convertion\", font_size=10)\n",
    "fig.show()\n",
    "\n"
   ]
  },
  {
   "cell_type": "markdown",
   "metadata": {},
   "source": [
    "## Questão 5"
   ]
  },
  {
   "cell_type": "code",
   "execution_count": 1059,
   "metadata": {
    "scrolled": false
   },
   "outputs": [
    {
     "name": "stderr",
     "output_type": "stream",
     "text": [
      "/dev/data/home/eller/anaconda3/lib/python3.7/site-packages/ipykernel_launcher.py:4: FutureWarning:\n",
      "\n",
      "Sorting because non-concatenation axis is not aligned. A future version\n",
      "of pandas will change to not sort by default.\n",
      "\n",
      "To accept the future behavior, pass 'sort=False'.\n",
      "\n",
      "To retain the current behavior and silence the warning, pass 'sort=True'.\n",
      "\n",
      "\n",
      "/dev/data/home/eller/anaconda3/lib/python3.7/site-packages/ipykernel_launcher.py:10: FutureWarning:\n",
      "\n",
      "Sorting because non-concatenation axis is not aligned. A future version\n",
      "of pandas will change to not sort by default.\n",
      "\n",
      "To accept the future behavior, pass 'sort=False'.\n",
      "\n",
      "To retain the current behavior and silence the warning, pass 'sort=True'.\n",
      "\n",
      "\n"
     ]
    },
    {
     "name": "stdout",
     "output_type": "stream",
     "text": [
      "Max revenue is: 399495.9400390625 \n",
      " pessimist revenue is: 21583.405001953124 \n",
      " expected revenue is: 41558.20200390625 \n",
      " optimist revenue is: 61532.999005859376\n"
     ]
    }
   ],
   "source": [
    "#Make the dataframe with customers that abandonned a cart\n",
    "online_orders1 = online_orders.dropna(subset = ['customer_id'])\n",
    "online_checkout = online_views1[online_views1['pageType'] == 'checkout']\n",
    "abandonned_cart = pd.concat([online_orders1, online_checkout]).drop_duplicates(subset = ['customer_id'], keep = False)\n",
    "\n",
    "#Make the dataframe with customers that abandonned a cart and bought offline\n",
    "abandonned_cart_bought_offline = pd.merge(abandonned_cart, offline_sales, how = \"inner\", on = ['customer_id']).drop_duplicates(subset = ['customer_id'], keep = False)\n",
    "\n",
    "#Make the dataframe with customers that abandonned a cart and didn't buy offline\n",
    "abandonned_cart_didnt_buy = pd.concat([abandonned_cart, abandonned_cart_bought_offline]).drop_duplicates(subset = ['customer_id'], keep = False).drop(['totalPrice_y'], axis = 1)['customer_id'].count()\n",
    "\n",
    "#Calculates average spent per sale for each customer who bought offline\n",
    "average_spent_per_sale = pd.DataFrame(offline_sales.groupby(['customer_id','sale_id'])['totalPrice'].mean().groupby('customer_id').mean()).rename(columns = {0:'customer_id', 1:'average_price'})\n",
    "\n",
    "#Merge dataframes\n",
    "abandonned_cart_bought_offline = pd.merge(abandonned_cart_bought_offline, average_spent_per_sale, how = 'inner', on = ['customer_id'])\n",
    "\n",
    "#Calculate max revenue with the discount\n",
    "max_revenue = abandonned_cart_bought_offline['totalPrice'].sum()*0.8 + abandonned_cart_didnt_buy*offline_sales['totalPrice'].mean()*0.8\n",
    "\n",
    "#Revenue expected based on research\n",
    "expected_revenue = abandonned_cart_bought_offline['totalPrice'].sum()*0.8*0.27 + abandonned_cart_didnt_buy*offline_sales['totalPrice'].mean()*0.8*0.1\n",
    "\n",
    "#Sensibility analysis\n",
    "pessimist_revenue = abandonned_cart_bought_offline['totalPrice'].sum()*0.8*0.22 + abandonned_cart_didnt_buy*offline_sales['totalPrice'].mean()*0.8*0.05\n",
    "optimist_revenue = abandonned_cart_bought_offline['totalPrice'].sum()*0.8*0.32 + abandonned_cart_didnt_buy*offline_sales['totalPrice'].mean()*0.8*0.15\n",
    "\n",
    "print('Max revenue is:', max_revenue,\n",
    "      '\\n pessimist revenue is:', pessimist_revenue,\n",
    "      '\\n expected revenue is:', expected_revenue, \n",
    "      '\\n optimist revenue is:', optimist_revenue)"
   ]
  },
  {
   "cell_type": "markdown",
   "metadata": {},
   "source": [
    "## Other analysis"
   ]
  },
  {
   "cell_type": "markdown",
   "metadata": {},
   "source": [
    "### Store's profile"
   ]
  },
  {
   "cell_type": "code",
   "execution_count": 1060,
   "metadata": {},
   "outputs": [
    {
     "data": {
      "text/plain": [
       "Text(0, 0.5, 'Frequency')"
      ]
     },
     "execution_count": 1060,
     "metadata": {},
     "output_type": "execute_result"
    },
    {
     "data": {
      "image/png": "[encoded data removed]",
      "text/plain": [
       "<Figure size 864x360 with 1 Axes>"
      ]
     },
     "metadata": {
      "needs_background": "light"
     },
     "output_type": "display_data"
    }
   ],
   "source": [
    "#Revenue Histogram\n",
    "plt.hist(offline_sales.groupby('store_id')['totalPrice'].sum())\n",
    "plt.title(\"Store's Revenue Histogram\")\n",
    "plt.xlabel('Revenue')\n",
    "plt.ylabel('Frequency')\n"
   ]
  },
  {
   "cell_type": "code",
   "execution_count": 1061,
   "metadata": {},
   "outputs": [
    {
     "data": {
      "text/plain": [
       "Text(0, 0.5, 'Revenue')"
      ]
     },
     "execution_count": 1061,
     "metadata": {},
     "output_type": "execute_result"
    },
    {
     "data": {
      "image/png": "[encoded data removed]",
      "text/plain": [
       "<Figure size 864x360 with 1 Axes>"
      ]
     },
     "metadata": {
      "needs_background": "light"
     },
     "output_type": "display_data"
    }
   ],
   "source": [
    "#Daily Revenue\n",
    "offline_sales['day'] = offline_sales['date'].dt.day\n",
    "daily_revenue = offline_sales.groupby('day')['totalPrice'].sum()\n",
    "plt.plot(daily_revenue)\n",
    "plt.title('Daily Revenue')\n",
    "plt.xlabel('Date')\n",
    "plt.ylabel('Revenue')\n"
   ]
  },
  {
   "cell_type": "code",
   "execution_count": 1062,
   "metadata": {},
   "outputs": [
    {
     "data": {
      "image/png": "[encoded data removed]",
      "text/plain": [
       "<Figure size 864x360 with 1 Axes>"
      ]
     },
     "metadata": {
      "needs_background": "light"
     },
     "output_type": "display_data"
    }
   ],
   "source": [
    "#Autocorrelation graph\n",
    "plot_acf(daily_revenue);"
   ]
  },
  {
   "cell_type": "code",
   "execution_count": 1063,
   "metadata": {},
   "outputs": [
    {
     "data": {
      "image/png": "[encoded data removed]",
      "text/plain": [
       "<Figure size 864x360 with 4 Axes>"
      ]
     },
     "metadata": {
      "needs_background": "light"
     },
     "output_type": "display_data"
    }
   ],
   "source": [
    "#Time-series decomposition\n",
    "daily_revenue = offline_sales.groupby('date')['totalPrice'].sum()\n",
    "result = seasonal_decompose(daily_revenue, model='aditive')\n",
    "result.plot();"
   ]
  },
  {
   "cell_type": "code",
   "execution_count": 1064,
   "metadata": {},
   "outputs": [
    {
     "data": {
      "text/plain": [
       "Text(0.5, 1.0, 'Average Ticket Histogram')"
      ]
     },
     "execution_count": 1064,
     "metadata": {},
     "output_type": "execute_result"
    },
    {
     "data": {
      "image/png": "[encoded data removed]",
      "text/plain": [
       "<Figure size 864x360 with 1 Axes>"
      ]
     },
     "metadata": {
      "needs_background": "light"
     },
     "output_type": "display_data"
    }
   ],
   "source": [
    "#Average Ticket Histogram\n",
    "plt.hist(offline_sales.groupby(['sale_id', 'store_id'], as_index = False)['totalPrice'].sum().groupby('store_id')['totalPrice'].mean())\n",
    "plt.xlabel('Average Ticket')\n",
    "plt.ylabel('Frequency')\n",
    "plt.title('Average Ticket Histogram')\n"
   ]
  },
  {
   "cell_type": "code",
   "execution_count": 1065,
   "metadata": {},
   "outputs": [
    {
     "data": {
      "text/plain": [
       "Text(0.5, 1.0, 'Average Number of Items per Purchase per Store Histogram')"
      ]
     },
     "execution_count": 1065,
     "metadata": {},
     "output_type": "execute_result"
    },
    {
     "data": {
      "image/png": "[encoded data removed]",
      "text/plain": [
       "<Figure size 864x360 with 1 Axes>"
      ]
     },
     "metadata": {
      "needs_background": "light"
     },
     "output_type": "display_data"
    }
   ],
   "source": [
    "#Average number of items per sale per store\n",
    "plt.hist(offline_sales.groupby(['store_id', 'sale_id'], as_index = False)['quantity'].sum().groupby('store_id')['quantity'].mean())\n",
    "plt.xlabel('Average Number of Items Purched')\n",
    "plt.ylabel('Frequency')\n",
    "plt.title('Average Number of Items per Purchase per Store Histogram')\n"
   ]
  },
  {
   "cell_type": "markdown",
   "metadata": {},
   "source": [
    "### Geographic aspects"
   ]
  },
  {
   "cell_type": "code",
   "execution_count": 1066,
   "metadata": {},
   "outputs": [
    {
     "data": {
      "text/plain": [
       "Text(0, 0.5, 'Revenue')"
      ]
     },
     "execution_count": 1066,
     "metadata": {},
     "output_type": "execute_result"
    },
    {
     "data": {
      "image/png": "[encoded data removed]",
      "text/plain": [
       "<Figure size 864x360 with 1 Axes>"
      ]
     },
     "metadata": {
      "needs_background": "light"
     },
     "output_type": "display_data"
    }
   ],
   "source": [
    "#Revenue per state\n",
    "offline_sales.groupby('state')['totalPrice'].sum().plot(kind = 'bar')\n",
    "plt.title('Revenue per state')\n",
    "plt.ylabel('Revenue')"
   ]
  },
  {
   "cell_type": "code",
   "execution_count": 1067,
   "metadata": {},
   "outputs": [
    {
     "data": {
      "text/plain": [
       "Text(0, 0.5, 'Stores')"
      ]
     },
     "execution_count": 1067,
     "metadata": {},
     "output_type": "execute_result"
    },
    {
     "data": {
      "image/png": "[encoded data removed]",
      "text/plain": [
       "<Figure size 864x360 with 1 Axes>"
      ]
     },
     "metadata": {
      "needs_background": "light"
     },
     "output_type": "display_data"
    }
   ],
   "source": [
    "#Number of stores per state\n",
    "offline_sales.groupby('state')['store_id'].nunique().plot(kind = 'bar')\n",
    "plt.title('Number of stores per state')\n",
    "plt.ylabel('Stores')"
   ]
  },
  {
   "cell_type": "code",
   "execution_count": 1068,
   "metadata": {},
   "outputs": [
    {
     "data": {
      "text/plain": [
       "Text(0, 0.5, 'Revenue')"
      ]
     },
     "execution_count": 1068,
     "metadata": {},
     "output_type": "execute_result"
    },
    {
     "data": {
      "image/png": "[encoded data removed]",
      "text/plain": [
       "<Figure size 864x360 with 1 Axes>"
      ]
     },
     "metadata": {
      "needs_background": "light"
     },
     "output_type": "display_data"
    }
   ],
   "source": [
    "#Average revenue per store per state\n",
    "offline_sales.groupby(['state', 'store_id'])['totalPrice'].sum().groupby('state').mean().plot(kind='bar')\n",
    "plt.title('Average Revenue Per Store per State')\n",
    "plt.ylabel('Revenue')"
   ]
  },
  {
   "cell_type": "markdown",
   "metadata": {},
   "source": [
    "### Distribution channels\n",
    "\n"
   ]
  },
  {
   "cell_type": "code",
   "execution_count": 1069,
   "metadata": {},
   "outputs": [
    {
     "data": {
      "text/plain": [
       "Text(0, 0.5, 'Revenue')"
      ]
     },
     "execution_count": 1069,
     "metadata": {},
     "output_type": "execute_result"
    },
    {
     "data": {
      "image/png": "[encoded data removed]",
      "text/plain": [
       "<Figure size 864x360 with 1 Axes>"
      ]
     },
     "metadata": {
      "needs_background": "light"
     },
     "output_type": "display_data"
    }
   ],
   "source": [
    "#Comparison of daily revenue\n",
    "online_orders['day'] = online_orders['date'].dt.day\n",
    "daily_revenue = online_orders.groupby('day')['totalPrice'].sum()\n",
    "plt.plot(daily_revenue)\n",
    "plt.title('Daily Revenue')\n",
    "plt.xlabel('Date')\n",
    "plt.ylabel('Revenue')\n",
    "\n",
    "offline_sales['day'] = offline_sales['date'].dt.day\n",
    "daily_revenue = offline_sales.groupby('day')['totalPrice'].sum()\n",
    "plt.plot(daily_revenue)\n",
    "plt.title('Daily Revenue')\n",
    "plt.xlabel('Date')\n",
    "plt.ylabel('Revenue')"
   ]
  },
  {
   "cell_type": "code",
   "execution_count": 1070,
   "metadata": {},
   "outputs": [
    {
     "data": {
      "text/plain": [
       "Text(0.5, 1.0, 'Revenue by Distribution Channel')"
      ]
     },
     "execution_count": 1070,
     "metadata": {},
     "output_type": "execute_result"
    },
    {
     "data": {
      "image/png": "[encoded data removed]",
      "text/plain": [
       "<Figure size 864x360 with 1 Axes>"
      ]
     },
     "metadata": {
      "needs_background": "light"
     },
     "output_type": "display_data"
    }
   ],
   "source": [
    "#Revenue by distribution channel\n",
    "online_revenue = online_orders['totalPrice'].sum()\n",
    "offline_revenue = offline_sales['totalPrice'].sum()\n",
    "plt.bar(['Online Revenue', 'Offline Revenue'], [online_revenue,offline_revenue])\n",
    "plt.ylabel('Revenue')\n",
    "plt.title('Revenue by Distribution Channel')"
   ]
  },
  {
   "cell_type": "code",
   "execution_count": 1071,
   "metadata": {},
   "outputs": [
    {
     "data": {
      "text/plain": [
       "Text(0.5, 1.0, 'Averate Ticket by Distribution Channel')"
      ]
     },
     "execution_count": 1071,
     "metadata": {},
     "output_type": "execute_result"
    },
    {
     "data": {
      "image/png": "[encoded data removed]",
      "text/plain": [
       "<Figure size 864x360 with 1 Axes>"
      ]
     },
     "metadata": {
      "needs_background": "light"
     },
     "output_type": "display_data"
    }
   ],
   "source": [
    "#Average ticket by distribution channel\n",
    "average_ticket_off = offline_sales.groupby(['sale_id'], as_index = False)['totalPrice'].sum()['totalPrice'].mean()\n",
    "average_ticket_on = online_orders.groupby(['order_id'], as_index = False)['totalPrice'].sum()['totalPrice'].mean()\n",
    "plt.bar([ 'Average Ticket Online','Average Ticket Offline'], [average_ticket_on,average_ticket_off])\n",
    "plt.ylabel('Average Ticket')\n",
    "plt.title('Averate Ticket by Distribution Channel')\n",
    "\n"
   ]
  },
  {
   "cell_type": "code",
   "execution_count": 1072,
   "metadata": {},
   "outputs": [
    {
     "data": {
      "text/plain": [
       "Text(0.5, 1.0, 'Averate Ticket by Distribution Channel')"
      ]
     },
     "execution_count": 1072,
     "metadata": {},
     "output_type": "execute_result"
    },
    {
     "data": {
      "image/png": "[encoded data removed]",
      "text/plain": [
       "<Figure size 864x360 with 1 Axes>"
      ]
     },
     "metadata": {
      "needs_background": "light"
     },
     "output_type": "display_data"
    }
   ],
   "source": [
    "#Average ticket by distribution channel\n",
    "average_ticket_off = offline_sales.groupby(['sale_id'], as_index = False)['totalPrice'].sum()['totalPrice']\n",
    "average_ticket_on = online_orders.groupby(['order_id'], as_index = False)['totalPrice'].sum()['totalPrice']\n",
    "\n",
    "dict_ticket = {'Average ticket online' : average_ticket_on, 'Average ticket offline' : average_ticket_off}\n",
    "\n",
    "fig, ax = plt.subplots()\n",
    "ax.boxplot(dict_ticket.values())\n",
    "ax.set_xticklabels(dict_ticket.keys())\n",
    "plt.ylabel('Average Ticket')\n",
    "plt.title('Averate Ticket by Distribution Channel')\n"
   ]
  },
  {
   "cell_type": "markdown",
   "metadata": {},
   "source": [
    "### Online pageviews and online orders"
   ]
  },
  {
   "cell_type": "code",
   "execution_count": 1073,
   "metadata": {},
   "outputs": [
    {
     "data": {
      "text/plain": [
       "Text(0.5, 1.0, 'Online pageviews by device type')"
      ]
     },
     "execution_count": 1073,
     "metadata": {},
     "output_type": "execute_result"
    },
    {
     "data": {
      "image/png": "[encoded data removed]",
      "text/plain": [
       "<Figure size 864x360 with 1 Axes>"
      ]
     },
     "metadata": {},
     "output_type": "display_data"
    }
   ],
   "source": [
    "#Online pageviews by device\n",
    "online_views.groupby('deviceType')['visitor_id'].count().plot(kind = 'pie', autopct='%1.1f%%')\n",
    "plt.title('Online pageviews by device type')\n"
   ]
  },
  {
   "cell_type": "code",
   "execution_count": 1074,
   "metadata": {},
   "outputs": [
    {
     "data": {
      "text/plain": [
       "Text(0.5, 1.0, 'Online orders by device type')"
      ]
     },
     "execution_count": 1074,
     "metadata": {},
     "output_type": "execute_result"
    },
    {
     "data": {
      "image/png": "[encoded data removed]",
      "text/plain": [
       "<Figure size 864x360 with 1 Axes>"
      ]
     },
     "metadata": {},
     "output_type": "display_data"
    }
   ],
   "source": [
    "#Online orders by device\n",
    "online_orders.groupby('deviceType')['visitor_id'].count().plot(kind = 'pie', autopct='%1.1f%%')\n",
    "plt.title('Online orders by device type')"
   ]
  },
  {
   "cell_type": "code",
   "execution_count": 1075,
   "metadata": {},
   "outputs": [],
   "source": [
    "#Recomendation system for online orders\n",
    "market_basket = online_orders.groupby(['order_id', 'on_product_id'])['quantity'].sum().unstack().reset_index().fillna(0).set_index('order_id')\n",
    "\n",
    "def encode_data(datapoint):\n",
    "    if datapoint <= 0:\n",
    "        return 0\n",
    "    if datapoint >= 1:\n",
    "        return 1\n",
    "\n",
    "market_basket = market_basket.applymap(encode_data)\n",
    "itemsets = apriori(market_basket, min_support=0.001, use_colnames=True)\n",
    "rules = association_rules(itemsets, metric=\"lift\", min_threshold=0.5)"
   ]
  },
  {
   "cell_type": "code",
   "execution_count": 1076,
   "metadata": {},
   "outputs": [
    {
     "data": {
      "text/html": [
       "<div>\n",
       "<style scoped>\n",
       "    .dataframe tbody tr th:only-of-type {\n",
       "        vertical-align: middle;\n",
       "    }\n",
       "\n",
       "    .dataframe tbody tr th {\n",
       "        vertical-align: top;\n",
       "    }\n",
       "\n",
       "    .dataframe thead th {\n",
       "        text-align: right;\n",
       "    }\n",
       "</style>\n",
       "<table border=\"1\" class=\"dataframe\">\n",
       "  <thead>\n",
       "    <tr style=\"text-align: right;\">\n",
       "      <th></th>\n",
       "      <th>antecedents</th>\n",
       "      <th>consequents</th>\n",
       "      <th>antecedent support</th>\n",
       "      <th>consequent support</th>\n",
       "      <th>support</th>\n",
       "      <th>confidence</th>\n",
       "      <th>lift</th>\n",
       "      <th>leverage</th>\n",
       "      <th>conviction</th>\n",
       "    </tr>\n",
       "  </thead>\n",
       "  <tbody>\n",
       "    <tr>\n",
       "      <th>0</th>\n",
       "      <td>(393165333934626)</td>\n",
       "      <td>(303261343732316)</td>\n",
       "      <td>0.002468</td>\n",
       "      <td>0.001645</td>\n",
       "      <td>0.001097</td>\n",
       "      <td>0.444444</td>\n",
       "      <td>270.111111</td>\n",
       "      <td>0.001093</td>\n",
       "      <td>1.797038</td>\n",
       "    </tr>\n",
       "    <tr>\n",
       "      <th>1</th>\n",
       "      <td>(303261343732316)</td>\n",
       "      <td>(393165333934626)</td>\n",
       "      <td>0.001645</td>\n",
       "      <td>0.002468</td>\n",
       "      <td>0.001097</td>\n",
       "      <td>0.666667</td>\n",
       "      <td>270.111111</td>\n",
       "      <td>0.001093</td>\n",
       "      <td>2.992596</td>\n",
       "    </tr>\n",
       "    <tr>\n",
       "      <th>2</th>\n",
       "      <td>(313932393861643)</td>\n",
       "      <td>(343364366431383)</td>\n",
       "      <td>0.002879</td>\n",
       "      <td>0.001097</td>\n",
       "      <td>0.001097</td>\n",
       "      <td>0.380952</td>\n",
       "      <td>347.285714</td>\n",
       "      <td>0.001094</td>\n",
       "      <td>1.613613</td>\n",
       "    </tr>\n",
       "    <tr>\n",
       "      <th>3</th>\n",
       "      <td>(343364366431383)</td>\n",
       "      <td>(313932393861643)</td>\n",
       "      <td>0.001097</td>\n",
       "      <td>0.002879</td>\n",
       "      <td>0.001097</td>\n",
       "      <td>1.000000</td>\n",
       "      <td>347.285714</td>\n",
       "      <td>0.001094</td>\n",
       "      <td>inf</td>\n",
       "    </tr>\n",
       "    <tr>\n",
       "      <th>4</th>\n",
       "      <td>(396464373131666)</td>\n",
       "      <td>(656662626334303)</td>\n",
       "      <td>0.006445</td>\n",
       "      <td>0.006170</td>\n",
       "      <td>0.001097</td>\n",
       "      <td>0.170213</td>\n",
       "      <td>27.585816</td>\n",
       "      <td>0.001057</td>\n",
       "      <td>1.197692</td>\n",
       "    </tr>\n",
       "    <tr>\n",
       "      <th>5</th>\n",
       "      <td>(656662626334303)</td>\n",
       "      <td>(396464373131666)</td>\n",
       "      <td>0.006170</td>\n",
       "      <td>0.006445</td>\n",
       "      <td>0.001097</td>\n",
       "      <td>0.177778</td>\n",
       "      <td>27.585816</td>\n",
       "      <td>0.001057</td>\n",
       "      <td>1.208378</td>\n",
       "    </tr>\n",
       "  </tbody>\n",
       "</table>\n",
       "</div>"
      ],
      "text/plain": [
       "         antecedents        consequents  antecedent support  \\\n",
       "0  (393165333934626)  (303261343732316)            0.002468   \n",
       "1  (303261343732316)  (393165333934626)            0.001645   \n",
       "2  (313932393861643)  (343364366431383)            0.002879   \n",
       "3  (343364366431383)  (313932393861643)            0.001097   \n",
       "4  (396464373131666)  (656662626334303)            0.006445   \n",
       "5  (656662626334303)  (396464373131666)            0.006170   \n",
       "\n",
       "   consequent support   support  confidence        lift  leverage  conviction  \n",
       "0            0.001645  0.001097    0.444444  270.111111  0.001093    1.797038  \n",
       "1            0.002468  0.001097    0.666667  270.111111  0.001093    2.992596  \n",
       "2            0.001097  0.001097    0.380952  347.285714  0.001094    1.613613  \n",
       "3            0.002879  0.001097    1.000000  347.285714  0.001094         inf  \n",
       "4            0.006170  0.001097    0.170213   27.585816  0.001057    1.197692  \n",
       "5            0.006445  0.001097    0.177778   27.585816  0.001057    1.208378  "
      ]
     },
     "execution_count": 1076,
     "metadata": {},
     "output_type": "execute_result"
    }
   ],
   "source": [
    "rules"
   ]
  },
  {
   "cell_type": "code",
   "execution_count": 1077,
   "metadata": {},
   "outputs": [
    {
     "name": "stdout",
     "output_type": "stream",
     "text": [
      "My program took 910.4115052223206 to run\n"
     ]
    }
   ],
   "source": [
    "print(\"My program took\", time.time() - start_time, \"to run\")"
   ]
  },
  {
   "cell_type": "code",
   "execution_count": null,
   "metadata": {},
   "outputs": [],
   "source": []
  }
 ],
 "metadata": {
  "kernelspec": {
   "display_name": "Python 3",
   "language": "python",
   "name": "python3"
  },
  "language_info": {
   "codemirror_mode": {
    "name": "ipython",
    "version": 3
   },
   "file_extension": ".py",
   "mimetype": "text/x-python",
   "name": "python",
   "nbconvert_exporter": "python",
   "pygments_lexer": "ipython3",
   "version": "3.7.3"
  }
 },
 "nbformat": 4,
 "nbformat_minor": 2
}
